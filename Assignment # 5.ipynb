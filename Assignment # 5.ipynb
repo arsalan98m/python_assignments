{
 "cells": [
  {
   "cell_type": "markdown",
   "metadata": {},
   "source": [
    "-  Write a Python function to calculate the factorial of a number (a non-negative integer). The function accepts the number as an argument."
   ]
  },
  {
   "cell_type": "code",
   "execution_count": 1,
   "metadata": {},
   "outputs": [
    {
     "name": "stdout",
     "output_type": "stream",
     "text": [
      "Enter your number: 6\n",
      "Factorial:  720\n"
     ]
    }
   ],
   "source": [
    "# Checking Non-negative integer\n",
    "def isPositive(number):\n",
    "    if int(number) > 0:\n",
    "        return True\n",
    "    else:\n",
    "        return False\n",
    "    \n",
    "def factorial_number(number):\n",
    "    f = 1\n",
    "    if isPositive(number) == True:\n",
    "        for i in range(1, number+1):\n",
    "            f = f * i\n",
    "    else:\n",
    "        print(\"Wrong input try again\")\n",
    "    \n",
    "    print(\"Factorial: \",f)\n",
    "    \n",
    "number = int(input(\"Enter your number: \"))        \n",
    "factorial_number(number)"
   ]
  },
  {
   "cell_type": "markdown",
   "metadata": {},
   "source": [
    "- Write a Python function that accepts a string and calculate the number of upper case letter and lower case letters"
   ]
  },
  {
   "cell_type": "code",
   "execution_count": 2,
   "metadata": {},
   "outputs": [
    {
     "name": "stdout",
     "output_type": "stream",
     "text": [
      "Enter your string: BilalAhmed\n",
      "Upper Letters are :  2\n",
      "Lower Letters are :  8\n"
     ]
    }
   ],
   "source": [
    "def calc_lower_upper_letters(word):\n",
    "    upper_letters = 0\n",
    "    lower_letters = 0\n",
    "    for string in word:\n",
    "        if string.isupper():\n",
    "            upper_letters += 1\n",
    "        elif string.islower():\n",
    "            lower_letters += 1\n",
    "        else:\n",
    "            print(\"Invalid Input\")\n",
    "            \n",
    "    print(\"Upper Letters are : \",upper_letters)\n",
    "    print(\"Lower Letters are : \",lower_letters)\n",
    "\n",
    "word = input(\"Enter your string: \")\n",
    "calc_lower_upper_letters(word)"
   ]
  },
  {
   "cell_type": "markdown",
   "metadata": {},
   "source": [
    "- Write a Python fucntion to print the even numbers from a given list."
   ]
  },
  {
   "cell_type": "code",
   "execution_count": 3,
   "metadata": {},
   "outputs": [
    {
     "name": "stdout",
     "output_type": "stream",
     "text": [
      "2\n",
      "10\n",
      "12\n",
      "6\n",
      "4\n",
      "0\n"
     ]
    }
   ],
   "source": [
    "def even_numbers(given_list):\n",
    "    for number in given_list:\n",
    "        if number % 2 == 0:\n",
    "            print(number)\n",
    "\n",
    "given_list = [3, 2, 10, 12, 19, 6, 4, 21, 0, 1, 9]\n",
    "even_numbers(given_list)"
   ]
  },
  {
   "cell_type": "markdown",
   "metadata": {},
   "source": [
    "- Write a Python function that checks whether a passed string is palindrome or not. Note: A palindrome is a word, phrase, or sequence that reads the same backward as forward, e.g., madam"
   ]
  },
  {
   "cell_type": "code",
   "execution_count": 4,
   "metadata": {},
   "outputs": [
    {
     "name": "stdout",
     "output_type": "stream",
     "text": [
      "Enter your string: madam\n"
     ]
    },
    {
     "data": {
      "text/plain": [
       "True"
      ]
     },
     "execution_count": 4,
     "metadata": {},
     "output_type": "execute_result"
    }
   ],
   "source": [
    "def is_palindrome(word):\n",
    "    reverse_word = word[::-1]\n",
    "    \n",
    "    if word == reverse_word:\n",
    "        return True\n",
    "    else:\n",
    "        return False\n",
    "\n",
    "string = input(\"Enter your string: \")\n",
    "is_palindrome(string)"
   ]
  },
  {
   "cell_type": "markdown",
   "metadata": {},
   "source": [
    "- Write a Python function that takes a number as a parameter and check the number is prime or not."
   ]
  },
  {
   "cell_type": "code",
   "execution_count": 5,
   "metadata": {},
   "outputs": [
    {
     "name": "stdout",
     "output_type": "stream",
     "text": [
      "Enter number: 101\n",
      "101  is a prime number\n"
     ]
    }
   ],
   "source": [
    "def isPrime(number):\n",
    "    if number > 1:\n",
    "        for i in range(2,number):\n",
    "            if(number % i) == 0:\n",
    "                print(number,\"is not a prime number\")\n",
    "                break\n",
    "        else:\n",
    "            print(number,\" is a prime number\")\n",
    "    else:\n",
    "        print(number,\"is not a prime number\")\n",
    "\n",
    "number = int(input(\"Enter number: \"))\n",
    "isPrime(number)"
   ]
  },
  {
   "cell_type": "markdown",
   "metadata": {},
   "source": [
    "- Suppose a customer is shopping in a market and you need to print all the items which user bought from market. Write a function which accepts the multiple arguments of user shopping list and print all the items which user bought from market."
   ]
  },
  {
   "cell_type": "code",
   "execution_count": 6,
   "metadata": {},
   "outputs": [
    {
     "name": "stdout",
     "output_type": "stream",
     "text": [
      "\n",
      "Enter the item you bought from market \n",
      "If you leave enter'quit': eggs\n",
      "\n",
      "Enter the item you bought from market \n",
      "If you leave enter'quit': vegetables\n",
      "\n",
      "Enter the item you bought from market \n",
      "If you leave enter'quit': fruits\n",
      "\n",
      "Enter the item you bought from market \n",
      "If you leave enter'quit': sugar\n",
      "\n",
      "Enter the item you bought from market \n",
      "If you leave enter'quit': quit\n",
      "\n",
      "--------- Shopping List --------\n",
      "You bought: Eggs\n",
      "You bought: Vegetables\n",
      "You bought: Fruits\n",
      "You bought: Sugar\n"
     ]
    }
   ],
   "source": [
    "def customer_shopping(*shopping_list):\n",
    "    print(\"\\n--------- Shopping List --------\")    \n",
    "    for element in shopping_list:\n",
    "        print(\"You bought: \"+element.title())\n",
    "\n",
    "shopping_list = []\n",
    "  \n",
    "while True:\n",
    "    items = input(\"\\nEnter the item you bought from market \\nIf you leave enter'quit': \")\n",
    "    if items == 'quit':\n",
    "        break\n",
    "    shopping_list.append(items)\n",
    "\n",
    "customer_shopping(*shopping_list)"
   ]
  },
  {
   "cell_type": "code",
   "execution_count": null,
   "metadata": {},
   "outputs": [],
   "source": []
  }
 ],
 "metadata": {
  "kernelspec": {
   "display_name": "Python 3",
   "language": "python",
   "name": "python3"
  },
  "language_info": {
   "codemirror_mode": {
    "name": "ipython",
    "version": 3
   },
   "file_extension": ".py",
   "mimetype": "text/x-python",
   "name": "python",
   "nbconvert_exporter": "python",
   "pygments_lexer": "ipython3",
   "version": "3.7.3"
  }
 },
 "nbformat": 4,
 "nbformat_minor": 2
}
