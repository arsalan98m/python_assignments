{
 "cells": [
  {
   "cell_type": "markdown",
   "metadata": {},
   "source": [
    "# 1.Write a program which takes 5 inputs from user for different subjects marks, total it generate marksheet using grades"
   ]
  },
  {
   "cell_type": "code",
   "execution_count": 3,
   "metadata": {},
   "outputs": [
    {
     "name": "stdout",
     "output_type": "stream",
     "text": [
      "****************Marksheet****************\n",
      "\n",
      "Enter your 1st Subject Marks out of 100:20\n",
      "Enter your 2nd Subject Marks out of 100:30\n",
      "Enter your 3rd Subject Marks out of 100:40\n",
      "Enter your 4th Subject Marks out of 100:50\n",
      "Enter your 5th Subject Marks out of 100:60\n",
      "\n",
      "\n",
      "Total Marks are: 200\n",
      "Your Percentage is: 40.0 %\n",
      "Fail!!!!\n"
     ]
    }
   ],
   "source": [
    "print(\"****************Marksheet****************\\n\")\n",
    "\n",
    "subj_1 = int(input(\"Enter your 1st Subject Marks out of 100:\"))\n",
    "subj_2 = int(input(\"Enter your 2nd Subject Marks out of 100:\"))\n",
    "subj_3 = int(input(\"Enter your 3rd Subject Marks out of 100:\"))\n",
    "subj_4 = int(input(\"Enter your 4th Subject Marks out of 100:\"))\n",
    "subj_5 = int(input(\"Enter your 5th Subject Marks out of 100:\"))\n",
    "\n",
    "total = subj_1 + subj_2 + subj_3 + subj_4 + subj_5\n",
    "\n",
    "percentage = total / 500 * 100\n",
    "\n",
    "print(\"\\n\\nTotal Marks are:\",total)\n",
    "print(\"Your Percentage is:\",percentage,\"%\")\n",
    "\n",
    "if percentage >= 80 and percentage <= 100:\n",
    "    print(\"Your Grade is 'A+'\")\n",
    "elif percentage > 70 and percentage < 80:\n",
    "    print(\"Your Grade is 'A'\")\n",
    "elif percentage > 60 and percentage < 70:\n",
    "    print(\"Your Grade is 'B'\")\n",
    "elif percentage > 50 and percentage < 60:\n",
    "    print(\"Your Grade is 'C'\")\n",
    "else:\n",
    "    print(\"Fail!!!!\")"
   ]
  },
  {
   "cell_type": "markdown",
   "metadata": {},
   "source": [
    "# 2.Write a program which take input from user and identify that the given number is even or odd?"
   ]
  },
  {
   "cell_type": "code",
   "execution_count": 7,
   "metadata": {},
   "outputs": [
    {
     "name": "stdout",
     "output_type": "stream",
     "text": [
      "Enter your number: 4\n",
      "Number is even\n"
     ]
    }
   ],
   "source": [
    "number = int(input(\"Enter your number: \"))\n",
    "\n",
    "if number % 2 == 0:\n",
    "    print(\"Number is even\")\n",
    "else:\n",
    "    print(\"Number is odd\")"
   ]
  },
  {
   "cell_type": "markdown",
   "metadata": {},
   "source": [
    "# 3.Write a program which print the length of the list"
   ]
  },
  {
   "cell_type": "code",
   "execution_count": 14,
   "metadata": {},
   "outputs": [
    {
     "name": "stdout",
     "output_type": "stream",
     "text": [
      "Length of fruits list is : 4\n"
     ]
    }
   ],
   "source": [
    "fruits = [\"mango\", \"apple\", \"orange\", \"pineapple\"]\n",
    "\n",
    "print(\"Length of fruits list is:\",len(fruits))"
   ]
  },
  {
   "cell_type": "markdown",
   "metadata": {},
   "source": [
    "# 4.Write a program to sum all the numeric items in list"
   ]
  },
  {
   "cell_type": "code",
   "execution_count": 17,
   "metadata": {},
   "outputs": [
    {
     "name": "stdout",
     "output_type": "stream",
     "text": [
      "Total Sum of numbers list is: 9\n"
     ]
    }
   ],
   "source": [
    "numbers = [2, 2, 4, 1]\n",
    "\n",
    "print(\"Total Sum of numbers list is:\",sum(numbers))"
   ]
  },
  {
   "cell_type": "markdown",
   "metadata": {},
   "source": [
    "# 5.Write a program to get the largest number from a numeric list."
   ]
  },
  {
   "cell_type": "code",
   "execution_count": 19,
   "metadata": {},
   "outputs": [
    {
     "name": "stdout",
     "output_type": "stream",
     "text": [
      "Maximum number in list is: 4\n"
     ]
    }
   ],
   "source": [
    "numbers = [2, 2, 4, 1]\n",
    "\n",
    "print(\"Maximum number in list is:\",max(numbers))"
   ]
  },
  {
   "cell_type": "markdown",
   "metadata": {},
   "source": [
    "# 6.Write a program that print out all the elements of the list that are less than 5."
   ]
  },
  {
   "cell_type": "code",
   "execution_count": 13,
   "metadata": {},
   "outputs": [
    {
     "name": "stdout",
     "output_type": "stream",
     "text": [
      "2\n",
      "3\n",
      "1\n",
      "4\n",
      "0\n"
     ]
    }
   ],
   "source": [
    "numbers = [2, 3, 1, 4, 0, 5, 11, 12, 14, 20, 21]\n",
    "\n",
    "for number in numbers:\n",
    "    if number < 5:\n",
    "        print(number)"
   ]
  },
  {
   "cell_type": "code",
   "execution_count": null,
   "metadata": {},
   "outputs": [],
   "source": []
  }
 ],
 "metadata": {
  "kernelspec": {
   "display_name": "Python 3",
   "language": "python",
   "name": "python3"
  },
  "language_info": {
   "codemirror_mode": {
    "name": "ipython",
    "version": 3
   },
   "file_extension": ".py",
   "mimetype": "text/x-python",
   "name": "python",
   "nbconvert_exporter": "python",
   "pygments_lexer": "ipython3",
   "version": "3.7.3"
  }
 },
 "nbformat": 4,
 "nbformat_minor": 2
}
