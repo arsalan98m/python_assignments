{
 "cells": [
  {
   "cell_type": "markdown",
   "metadata": {},
   "source": [
    "#### 1. Use a dictionary to store information about a person you know. Store their first name, last name, age,and the city in which they live. You should have keys such as first_name, last_name, age, and city. Printeach piece of information stored in your dictionary. Add a new key value pair about qualification then update the qualification value to high academic level then delete it."
   ]
  },
  {
   "cell_type": "code",
   "execution_count": 1,
   "metadata": {},
   "outputs": [
    {
     "name": "stdout",
     "output_type": "stream",
     "text": [
      "Person Information:\n",
      "First Name: Rizwan\n",
      "Last Name: Ahmed\n",
      "Age: 25\n",
      "City: Karachi\n",
      "\n",
      "Person Information after Updated:\n",
      "First Name: Rizwan\n",
      "Last Name: Ahmed\n",
      "Age: 25\n",
      "City: Karachi\n",
      "Qualification: B.Com\n",
      "\n",
      "Person Information after Deleting:\n",
      "First Name: Rizwan\n",
      "Last Name: Ahmed\n",
      "Age: 25\n",
      "City: Karachi\n"
     ]
    }
   ],
   "source": [
    "person_info = {\n",
    "    \"first name\": \"rizwan\",\n",
    "    \"last name\": \"ahmed\",\n",
    "    \"age\": 25,\n",
    "    \"city\": \"karachi\",\n",
    "    \n",
    "}\n",
    "\n",
    "print(\"Person Information:\")\n",
    "for key, value in person_info.items():\n",
    "    values = str(value)\n",
    "    print(f\"{key.title()}: {values.title()}\")\n",
    "    \n",
    "person_info[\"qualification\"] = \"B.Com\"\n",
    "\n",
    "print(\"\\nPerson Information after Updated:\")\n",
    "for key, value in person_info.items():\n",
    "    values = str(value)\n",
    "    print(f\"{key.title()}: {values.title()}\")\n",
    "\n",
    "del person_info[\"qualification\"]\n",
    "\n",
    "print(\"\\nPerson Information after Deleting:\")\n",
    "for key, value in person_info.items():\n",
    "    values = str(value)\n",
    "    print(f\"{key.title()}: {values.title()}\")\n",
    "    "
   ]
  },
  {
   "cell_type": "markdown",
   "metadata": {},
   "source": [
    "#### 2. Make a dictionary called cities. Use the names of three cities as keys in your dictionary. Create a dictionary of information about each city and include the country that the city is in, its approximate population, and one fact about that city. The keys for each city’s dictionary should be something like country, population, and fact. Print the name of each city and all of the information you have stored about it."
   ]
  },
  {
   "cell_type": "code",
   "execution_count": 68,
   "metadata": {},
   "outputs": [
    {
     "name": "stdout",
     "output_type": "stream",
     "text": [
      "\n",
      "\n",
      "Karachi is in Pakistan: \n",
      "Population:\n",
      " Population in Karachi is 2 Crore\n",
      "Fact: \n",
      " Sixth Largest City In The World By City Population\n",
      "\n",
      "\n",
      "Istanbul is in Turkey: \n",
      "Population:\n",
      " Population in Istanbul is 15 Million\n",
      "Fact: \n",
      " Istanbul Is The Only City In The World Which Is Both In Europe And Asia Geographicaly.\n",
      "\n",
      "\n",
      "Cairo is in Egypt: \n",
      "Population:\n",
      " Population in Cairo is 9.5 Million\n",
      "Fact: \n",
      " The City Has Average Elevation Of 23 Meters (75 Feet) Above Sea Level.\n"
     ]
    }
   ],
   "source": [
    "cities = {\n",
    "    \"karachi\": {\n",
    "        \"country\": \"pakistan\",\n",
    "        \"population\": \"2 crore\",\n",
    "        \"fact\": \"sixth largest city in the world by city population\",\n",
    "    },\n",
    "    \"istanbul\": {\n",
    "        \"country\": \"turkey\",\n",
    "        \"population\": \"15 million\",\n",
    "        \"fact\": \"Istanbul is the only city in the world which is both in Europe and Asia geographicaly.\",\n",
    "        \n",
    "    },\n",
    "    \"cairo\": {\n",
    "        \"country\": \"egypt\",\n",
    "        \"population\": \"9.5 million\",\n",
    "        \"fact\": \"The city has average elevation of 23 meters (75 feet) above sea level.\",\n",
    "    },\n",
    "}\n",
    "\n",
    "for key, value in cities.items():\n",
    "    country = value[\"country\"].title()\n",
    "    population = value[\"population\"].title()\n",
    "    fact = value[\"fact\"].title()\n",
    "    \n",
    "    print(f\"\\n\\n{key.title()} is in {country}: \")\n",
    "    print(f\"Population:\\n Population in {key.title()} is {population}\")\n",
    "    print(f\"Fact: \\n {fact}\")"
   ]
  },
  {
   "cell_type": "markdown",
   "metadata": {},
   "source": [
    "#### 3. A movie theater charges different ticket prices depending on a person’s age. If a person is under the age of 3, the ticket is free; if they are between 3 and 12, the ticket is  10 and if they are over age 12, the ticket is 15.  Write a loop in which you ask users their age, and then tell them the cost of their movie ticket."
   ]
  },
  {
   "cell_type": "code",
   "execution_count": 4,
   "metadata": {},
   "outputs": [
    {
     "name": "stdout",
     "output_type": "stream",
     "text": [
      "Movie Theatre Ticket\n",
      "If you want to quite press q\n",
      "\n",
      "Enter Your age: 12\n",
      "The ticket is $10.\n",
      "\n",
      "Enter Your age: 10\n",
      "The ticket is $10.\n",
      "\n",
      "Enter Your age: 13\n",
      "The ticket is $15.\n",
      "\n",
      "Enter Your age: 2\n",
      "The ticket is free.\n",
      "\n",
      "Enter Your age: q\n"
     ]
    }
   ],
   "source": [
    "print(\"Movie Theatre Ticket\")\n",
    "print(\"If you want to quite press q\")\n",
    "while True:\n",
    "    user_age = input(\"\\nEnter Your age: \")\n",
    "    if user_age == \"q\":\n",
    "        break\n",
    "    user_age = int(user_age)\n",
    "\n",
    "    \n",
    "    if user_age <= 3:\n",
    "        print(\"The ticket is free.\")\n",
    "    elif user_age > 3 and user_age < 13:\n",
    "        print(\"The ticket is $10.\")\n",
    "    else:\n",
    "        print(\"The ticket is $15.\")\n",
    "    "
   ]
  },
  {
   "cell_type": "markdown",
   "metadata": {},
   "source": [
    "#### 4.Write a function called favorite_book() that accepts one parameter, title. The function should print a message, such as One of my favorite books is Alice in Wonderland. Call the function, making sure to include a book title as an argument in the function call."
   ]
  },
  {
   "cell_type": "code",
   "execution_count": 69,
   "metadata": {},
   "outputs": [
    {
     "name": "stdout",
     "output_type": "stream",
     "text": [
      "One of my favorite book is Smarty Way To Learn Python\n"
     ]
    }
   ],
   "source": [
    "def favorite_book(title):\n",
    "    print(\"One of my favorite book is \"+title.title())\n",
    "\n",
    "favorite_book(\"smarty way to learn python\")"
   ]
  },
  {
   "cell_type": "code",
   "execution_count": 70,
   "metadata": {},
   "outputs": [
    {
     "name": "stdout",
     "output_type": "stream",
     "text": [
      "One of my favorite book is The Art Of Computer\n"
     ]
    }
   ],
   "source": [
    "favorite_book(\"the art of computer\")"
   ]
  },
  {
   "cell_type": "markdown",
   "metadata": {},
   "source": [
    "#### 5. Guess the Number Game.\n",
    "Write a program which randomly generate a number between 1 to 30 and ask the user in input field to guess the correct number. Give three chances to user guess the number and also give hint to user if hidden number is greater or smaller than the number he given to input field."
   ]
  },
  {
   "cell_type": "code",
   "execution_count": 64,
   "metadata": {},
   "outputs": [
    {
     "name": "stdout",
     "output_type": "stream",
     "text": [
      "Guess the Number:\n",
      "Please input your guess: 10\n",
      "Too Big\n",
      "\n",
      "You have 2 chances left.\n",
      "Please input your guess: 20\n",
      "Too Big\n",
      "\n",
      "You have 1 chances left.\n",
      "Please input your guess: 14\n",
      "Too Big\n",
      "\n",
      "You loss!!\n",
      "Nope The number i was thinking is 7\n"
     ]
    }
   ],
   "source": [
    "import random\n",
    "\n",
    "print(\"Guess the Number:\")\n",
    "secret_number = random.randint(1,30)\n",
    "chances = 3\n",
    "\n",
    "while True:\n",
    "    user_number = int(input(\"Please input your guess: \"))\n",
    "       \n",
    "    # Checking Secret number\n",
    "    if user_number == secret_number:\n",
    "        print(\"You Win!!!\")\n",
    "        print(f\"You Guessed it ! The number was {secret_number} and {chances} chances left.\")\n",
    "        break\n",
    "    elif user_number < secret_number:\n",
    "        print(\"Too small\")\n",
    "    elif user_number > secret_number:\n",
    "        print(\"Too Big\")\n",
    "        \n",
    "    # Checking chances to user guess the number\n",
    "    chances -=1\n",
    "    if chances == 0:\n",
    "        print(\"\\nYou loss!!\")\n",
    "        print(f\"Nope The number i was thinking is {secret_number}\")\n",
    "        break\n",
    "    print(f\"\\nYou have {chances} chances left.\")   \n",
    "\n",
    "    "
   ]
  },
  {
   "cell_type": "markdown",
   "metadata": {},
   "source": [
    " "
   ]
  }
 ],
 "metadata": {
  "kernelspec": {
   "display_name": "Python 3",
   "language": "python",
   "name": "python3"
  },
  "language_info": {
   "codemirror_mode": {
    "name": "ipython",
    "version": 3
   },
   "file_extension": ".py",
   "mimetype": "text/x-python",
   "name": "python",
   "nbconvert_exporter": "python",
   "pygments_lexer": "ipython3",
   "version": "3.7.3"
  }
 },
 "nbformat": 4,
 "nbformat_minor": 2
}
