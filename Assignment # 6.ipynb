{
 "cells": [
  {
   "cell_type": "markdown",
   "metadata": {},
   "source": [
    "(1) What is Object Oriented Programming?"
   ]
  },
  {
   "cell_type": "markdown",
   "metadata": {},
   "source": [
    "Object Oriented Programming is an engineering approach to build software systems.\n",
    "Object Oriented Programming uses the concept of object and classes to model the real world entites.\n"
   ]
  },
  {
   "cell_type": "markdown",
   "metadata": {},
   "source": [
    "(2) List Down the Benefits of OOP?"
   ]
  },
  {
   "cell_type": "markdown",
   "metadata": {},
   "source": [
    "- The Principle of data hiding help programmers to build secure programs\n",
    "- Object Oriented systems can easily upgraded from small to large systems(scaleability)\n",
    "- Through Inheritance we can eliminate code and extend the use of existing class \n",
    "- Software complexity can easily be managed\n",
    "- It is easy to divide the work in a project based on objects"
   ]
  },
  {
   "cell_type": "markdown",
   "metadata": {},
   "source": [
    "(3) Differentiate between function and method?"
   ]
  },
  {
   "cell_type": "markdown",
   "metadata": {},
   "source": [
    "Function:\n",
    "- Function do not have any reference variables\n",
    "- All data that is passed to a function is explicitly passed\n",
    "- Functions have independent existence means they can be defined outside of the class\n",
    "- Exist on its own\n",
    "\n",
    "Method:\n",
    "- Method are called by reference variable\n",
    "- It is implicitly passed the object for which it was called\n",
    "- Method do not have independent existence they are always defined with in class\n",
    "- Belong to a certain class"
   ]
  },
  {
   "cell_type": "markdown",
   "metadata": {},
   "source": [
    "(5) Define the terms:\n",
    "`Class`\n",
    "`Object` \n",
    "`Attribute`\n",
    "`Behavior`"
   ]
  },
  {
   "cell_type": "markdown",
   "metadata": {},
   "source": [
    "Class: In object-oriented programming, a class may also defined as something that can be followed to create objects and instances\n",
    "A class is model, A class is template\n",
    "\n",
    "Method: The functionality which we insert in object with in the class is called method.\n",
    "\n",
    "Attribute: Attributes are the properties of the object.\n",
    "\n",
    "Behaviour:A class's behavior determines how an instance of that class operates\n"
   ]
  },
  {
   "cell_type": "markdown",
   "metadata": {},
   "source": [
    "(5) Write a code in python in which create a class named it Car which\n",
    "have 5 attributes such like (model, color and name etc.) and 3\n",
    "methods. And create 5 object instance from that class."
   ]
  },
  {
   "cell_type": "code",
   "execution_count": 4,
   "metadata": {},
   "outputs": [],
   "source": [
    "class Car():\n",
    "    def __init__(self,model, color, company, year,speed):\n",
    "        self.model = model\n",
    "        self.color= color\n",
    "        self.company= company\n",
    "        self.year = year\n",
    "        self.speed = speed\n",
    "        \n",
    "    def set_year_model(self, new_year):\n",
    "        self.model = new_year\n",
    "\n",
    "    def set_color(self, new_color):\n",
    "        self.color = new_color\n",
    "\n",
    "    def set_speed(self, new_speed):\n",
    "        self.speed = new_speed\n"
   ]
  },
  {
   "cell_type": "code",
   "execution_count": 6,
   "metadata": {},
   "outputs": [],
   "source": [
    "car1=Car(\"cultus\",\"red\",\"suzuki\",2009,\"1200km\")\n",
    "car2=Car(\"civic\",\"blue\",\"honda\",2010,\"1100km\")\n",
    "car3=Car(\"chr\",\"yellow\",\"toyota\",2008,\"1000km\")\n",
    "car4=Car(\"vitz\",\"red\",\"toyota\",2009,\"1200km\")\n",
    "car5=Car(\"mehran\",\"blue\",\"suzuki\",2006,\"700km\")"
   ]
  },
  {
   "cell_type": "code",
   "execution_count": null,
   "metadata": {},
   "outputs": [],
   "source": []
  }
 ],
 "metadata": {
  "kernelspec": {
   "display_name": "Python 3",
   "language": "python",
   "name": "python3"
  },
  "language_info": {
   "codemirror_mode": {
    "name": "ipython",
    "version": 3
   },
   "file_extension": ".py",
   "mimetype": "text/x-python",
   "name": "python",
   "nbconvert_exporter": "python",
   "pygments_lexer": "ipython3",
   "version": "3.7.3"
  }
 },
 "nbformat": 4,
 "nbformat_minor": 2
}
