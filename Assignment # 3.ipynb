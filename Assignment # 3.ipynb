{
 "cells": [
  {
   "cell_type": "markdown",
   "metadata": {},
   "source": [
    "#### 1. Make a calculator using Python with addition , subtraction , multiplication ,division and power."
   ]
  },
  {
   "cell_type": "code",
   "execution_count": 11,
   "metadata": {},
   "outputs": [
    {
     "name": "stdout",
     "output_type": "stream",
     "text": [
      "Enter your first number: 5\n",
      "Enter your second number: 5\n",
      "\n",
      "Operators are : +, -, *, /, **\n",
      "Enter your operator: *\n",
      "Multiplication of 5 * 5 is: 25 \n"
     ]
    }
   ],
   "source": [
    "num_1 = int(input(\"Enter your first number: \"))\n",
    "num_2 = int(input(\"Enter your second number: \"))\n",
    "operator = input(\"\\nOperators are : +, -, *, /, **\\nEnter your operator: \") \n",
    "\n",
    "if operator == \"+\":\n",
    "    sum = num_1 + num_2\n",
    "    print(f\"Addition of {num_1} + {num_2} is: {sum}\")\n",
    "elif operator == \"-\":\n",
    "    sub = num_1 - num_2\n",
    "    print(f\"Subtraction of {num_1} - {num_2} is: {sub}\")\n",
    "elif operator == \"*\":\n",
    "    mul = num_1 * num_2\n",
    "    print(f\"Multiplication of {num_1} * {num_2} is: {mul} \")\n",
    "elif operator == \"/\":\n",
    "    div = num_1 / num_2\n",
    "    print(f\"Divison of {num_1} / {num_2} is: {div}\")\n",
    "elif operator == \"**\":\n",
    "    power = num_1 ** num_2\n",
    "    print(f\"Power of {num_1} ** {num_2} is: {power}\")\n",
    "else:\n",
    "    print(\"You type invalid operand\")\n"
   ]
  },
  {
   "cell_type": "markdown",
   "metadata": {},
   "source": [
    "#### 2. Write a program to check if there is any numeric value in list using for loop"
   ]
  },
  {
   "cell_type": "code",
   "execution_count": 40,
   "metadata": {},
   "outputs": [
    {
     "name": "stdout",
     "output_type": "stream",
     "text": [
      "2\n",
      "10\n",
      "5\n"
     ]
    }
   ],
   "source": [
    "li = [\"taha\", \"adil\", 2, 10, 5, \"bilal\", \"usman\"]\n",
    "\n",
    "for item in li:\n",
    "    if type(item) == int:\n",
    "        print(item)"
   ]
  },
  {
   "cell_type": "markdown",
   "metadata": {},
   "source": [
    "#### 3. Write a Python script to add a key to a dictionary "
   ]
  },
  {
   "cell_type": "code",
   "execution_count": 43,
   "metadata": {},
   "outputs": [
    {
     "name": "stdout",
     "output_type": "stream",
     "text": [
      "{1: 'imran', 2: 'asif', 3: 'bilal'}\n",
      "{1: 'imran', 2: 'asif', 3: 'bilal', 4: 'usman'}\n"
     ]
    }
   ],
   "source": [
    "students = {\n",
    "    1: \"imran\",\n",
    "    2: \"asif\",\n",
    "    3: \"bilal\",\n",
    "}\n",
    "\n",
    "print(students)\n",
    "\n",
    "students[4] = \"usman\"\n",
    "print(students)"
   ]
  },
  {
   "cell_type": "markdown",
   "metadata": {},
   "source": [
    "#### 4.Write a Python program to sum all the numeric items in a dictionary"
   ]
  },
  {
   "cell_type": "code",
   "execution_count": 85,
   "metadata": {},
   "outputs": [
    {
     "name": "stdout",
     "output_type": "stream",
     "text": [
      "16\n"
     ]
    }
   ],
   "source": [
    "dic = {\n",
    "    \"num_1\": 2,\n",
    "    \"num_2\": 4,\n",
    "    \"num_3\": 10\n",
    "}\n",
    "\n",
    "addition = 0\n",
    "\n",
    "for value in numbers.values():\n",
    "    addition += value\n",
    "print(addition)\n",
    "    \n"
   ]
  },
  {
   "cell_type": "markdown",
   "metadata": {},
   "source": [
    "#### 5. Write a program to identify duplicate values from list"
   ]
  },
  {
   "cell_type": "code",
   "execution_count": 86,
   "metadata": {},
   "outputs": [
    {
     "name": "stdout",
     "output_type": "stream",
     "text": [
      "['apple', 'banana', 'orange', 'cherry', 'mango']\n"
     ]
    }
   ],
   "source": [
    "fruits = [\"apple\", \"banana\", \"orange\", \"cherry\", \"orange\", \"mango\", \"apple\"]\n",
    "unique_fruits = []\n",
    "\n",
    "for fruit in fruits:\n",
    "    if fruit not in unique_fruits:\n",
    "        unique_fruits.append(fruit)\n",
    "print(unique_fruits)"
   ]
  },
  {
   "cell_type": "markdown",
   "metadata": {},
   "source": [
    "#### 6. Write a Python script to check if a given key already exists in a dictionary"
   ]
  },
  {
   "cell_type": "code",
   "execution_count": 90,
   "metadata": {},
   "outputs": [
    {
     "name": "stdout",
     "output_type": "stream",
     "text": [
      "Enter key to check: a\n",
      "Key is Present\n"
     ]
    },
    {
     "ename": "NameError",
     "evalue": "name 'key' is not defined",
     "output_type": "error",
     "traceback": [
      "\u001b[1;31m---------------------------------------------------------------------------\u001b[0m",
      "\u001b[1;31mNameError\u001b[0m                                 Traceback (most recent call last)",
      "\u001b[1;32m<ipython-input-90-008c5b523223>\u001b[0m in \u001b[0;36m<module>\u001b[1;34m\u001b[0m\n\u001b[0;32m      9\u001b[0m \u001b[1;32mif\u001b[0m \u001b[0minput_key\u001b[0m \u001b[1;32min\u001b[0m \u001b[0mstudents\u001b[0m\u001b[1;33m.\u001b[0m\u001b[0mkeys\u001b[0m\u001b[1;33m(\u001b[0m\u001b[1;33m)\u001b[0m\u001b[1;33m:\u001b[0m\u001b[1;33m\u001b[0m\u001b[1;33m\u001b[0m\u001b[0m\n\u001b[0;32m     10\u001b[0m         \u001b[0mprint\u001b[0m\u001b[1;33m(\u001b[0m\u001b[1;34m\"Key is Present\"\u001b[0m\u001b[1;33m)\u001b[0m\u001b[1;33m\u001b[0m\u001b[1;33m\u001b[0m\u001b[0m\n\u001b[1;32m---> 11\u001b[1;33m         \u001b[0mprint\u001b[0m\u001b[1;33m(\u001b[0m\u001b[0mstudents\u001b[0m\u001b[1;33m[\u001b[0m\u001b[0mkey\u001b[0m\u001b[1;33m]\u001b[0m\u001b[1;33m)\u001b[0m\u001b[1;33m\u001b[0m\u001b[1;33m\u001b[0m\u001b[0m\n\u001b[0m",
      "\u001b[1;31mNameError\u001b[0m: name 'key' is not defined"
     ]
    }
   ],
   "source": [
    "students = {\n",
    "    \"a\": \"imran\",\n",
    "    \"b\": \"asif\",\n",
    "    \"c\": \"bilal\",\n",
    "}\n",
    "\n",
    "input_key = input(\"Enter key to check: \")\n",
    "\n",
    "if input_key in students.keys():\n",
    "        print(\"Key is Present\")\n",
    "        print(students[key])"
   ]
  },
  {
   "cell_type": "code",
   "execution_count": null,
   "metadata": {},
   "outputs": [],
   "source": []
  }
 ],
 "metadata": {
  "kernelspec": {
   "display_name": "Python 3",
   "language": "python",
   "name": "python3"
  },
  "language_info": {
   "codemirror_mode": {
    "name": "ipython",
    "version": 3
   },
   "file_extension": ".py",
   "mimetype": "text/x-python",
   "name": "python",
   "nbconvert_exporter": "python",
   "pygments_lexer": "ipython3",
   "version": "3.7.3"
  }
 },
 "nbformat": 4,
 "nbformat_minor": 2
}
